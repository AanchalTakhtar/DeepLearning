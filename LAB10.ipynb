{
 "cells": [
  {
   "cell_type": "code",
   "execution_count": 47,
   "id": "16a91515-e639-4af1-a871-86748242aa83",
   "metadata": {},
   "outputs": [],
   "source": [
    "import numpy as np\n",
    "import pandas as pd\n",
    "import matplotlib.pyplot as plt\n",
    "from sklearn.model_selection import train_test_split\n",
    "from tensorflow.keras.layers import MaxPooling2D\n",
    "from tensorflow.keras.layers import Input, Dense,Conv2D,UpSampling2D\n",
    "from tensorflow.keras.models import Model\n",
    "from tensorflow.keras import regularizers\n"
   ]
  },
  {
   "cell_type": "code",
   "execution_count": 48,
   "id": "bf8efbbd-3d3a-4cb0-b961-4e829522a5ac",
   "metadata": {},
   "outputs": [],
   "source": [
    "data= pd.read_csv('mnist_784_csv.csv')"
   ]
  },
  {
   "cell_type": "code",
   "execution_count": 53,
   "id": "6a7338e2-a223-4778-880b-2de8c61c12b7",
   "metadata": {},
   "outputs": [],
   "source": [
    "labels = data.iloc[:, 0].values  # Extract labels\n",
    "images = data.iloc[:, 1:].values / 255.0  # Normalize pixel values between 0 and 1\n",
    "images = images.reshape(-1, 28, 28, 1)"
   ]
  },
  {
   "cell_type": "code",
   "execution_count": 54,
   "id": "0b9dd4b6-a652-4c7f-a167-a5bad143cca8",
   "metadata": {},
   "outputs": [],
   "source": [
    "noise_factor = 0.5\n",
    "noisy_images = images + noise_factor* np.random.normal(loc=0.0,scale=1.0,size=images.shape)\n",
    "noisy_images=np.clip(noisy_images,0.0,1.0)"
   ]
  },
  {
   "cell_type": "code",
   "execution_count": 57,
   "id": "fa8532d8-7c43-49f7-9125-174774ba2cbd",
   "metadata": {},
   "outputs": [],
   "source": [
    "x_train,x_test,y_train,y_test= train_test_split(noisy_images,images,test_size=0.2,random_state=42)\n",
    "input_img= Input(shape=(28,28,1))"
   ]
  },
  {
   "cell_type": "code",
   "execution_count": 60,
   "id": "5cca7978-1ec9-4c49-bdbf-0428e73c5b03",
   "metadata": {},
   "outputs": [],
   "source": [
    "#encoder\n",
    "x=Conv2D(32,(3,3),activation='relu',padding='same')(input_img)\n",
    "x= MaxPooling2D((2,2), padding='same')(x)\n",
    "x=Conv2D(16,(3,3),activation='relu',padding='same')(x)\n",
    "x= MaxPooling2D((2,2), padding='same')(x)"
   ]
  },
  {
   "cell_type": "code",
   "execution_count": 61,
   "id": "6e0c3d51-c824-4fec-b4c7-58a9b0b6f7b3",
   "metadata": {},
   "outputs": [],
   "source": [
    "#decoder\n",
    "x=Conv2D(16,(3,3),activation='relu',padding='same')(x)\n",
    "x= UpSampling2D((2,2))(x)\n",
    "x=Conv2D(32,(3,3),activation='relu',padding='same')(x)\n",
    "x= UpSampling2D((2,2))(x)\n",
    "decoded= Conv2D(1,(3,3),activation='sigmoid', padding='same')(x) "
   ]
  },
  {
   "cell_type": "code",
   "execution_count": 62,
   "id": "590f885b-83ca-402e-bbd7-80b49be9f605",
   "metadata": {},
   "outputs": [],
   "source": [
    "#compile the model\n",
    "autoencoder= Model(input_img, decoded)\n",
    "autoencoder.compile(optimizer='adam',loss='binary_crossentropy')"
   ]
  },
  {
   "cell_type": "code",
   "execution_count": 64,
   "id": "9d8fbe81-4e26-4194-8b68-dfdba9f2382a",
   "metadata": {},
   "outputs": [
    {
     "name": "stdout",
     "output_type": "stream",
     "text": [
      "Epoch 1/10\n",
      "\u001b[1m438/438\u001b[0m \u001b[32m━━━━━━━━━━━━━━━━━━━━\u001b[0m\u001b[37m\u001b[0m \u001b[1m30s\u001b[0m 64ms/step - loss: 0.5553 - val_loss: 0.4906\n",
      "Epoch 2/10\n",
      "\u001b[1m438/438\u001b[0m \u001b[32m━━━━━━━━━━━━━━━━━━━━\u001b[0m\u001b[37m\u001b[0m \u001b[1m27s\u001b[0m 61ms/step - loss: 0.4871 - val_loss: 0.4764\n",
      "Epoch 3/10\n",
      "\u001b[1m438/438\u001b[0m \u001b[32m━━━━━━━━━━━━━━━━━━━━\u001b[0m\u001b[37m\u001b[0m \u001b[1m28s\u001b[0m 64ms/step - loss: 0.4717 - val_loss: 0.4620\n",
      "Epoch 4/10\n",
      "\u001b[1m438/438\u001b[0m \u001b[32m━━━━━━━━━━━━━━━━━━━━\u001b[0m\u001b[37m\u001b[0m \u001b[1m29s\u001b[0m 67ms/step - loss: 0.4602 - val_loss: 0.4546\n",
      "Epoch 5/10\n",
      "\u001b[1m438/438\u001b[0m \u001b[32m━━━━━━━━━━━━━━━━━━━━\u001b[0m\u001b[37m\u001b[0m \u001b[1m25s\u001b[0m 57ms/step - loss: 0.4535 - val_loss: 0.4498\n",
      "Epoch 6/10\n",
      "\u001b[1m438/438\u001b[0m \u001b[32m━━━━━━━━━━━━━━━━━━━━\u001b[0m\u001b[37m\u001b[0m \u001b[1m30s\u001b[0m 69ms/step - loss: 0.4489 - val_loss: 0.4463\n",
      "Epoch 7/10\n",
      "\u001b[1m438/438\u001b[0m \u001b[32m━━━━━━━━━━━━━━━━━━━━\u001b[0m\u001b[37m\u001b[0m \u001b[1m30s\u001b[0m 68ms/step - loss: 0.4458 - val_loss: 0.4440\n",
      "Epoch 8/10\n",
      "\u001b[1m438/438\u001b[0m \u001b[32m━━━━━━━━━━━━━━━━━━━━\u001b[0m\u001b[37m\u001b[0m \u001b[1m28s\u001b[0m 64ms/step - loss: 0.4433 - val_loss: 0.4418\n",
      "Epoch 9/10\n",
      "\u001b[1m438/438\u001b[0m \u001b[32m━━━━━━━━━━━━━━━━━━━━\u001b[0m\u001b[37m\u001b[0m \u001b[1m28s\u001b[0m 64ms/step - loss: 0.4415 - val_loss: 0.4403\n",
      "Epoch 10/10\n",
      "\u001b[1m438/438\u001b[0m \u001b[32m━━━━━━━━━━━━━━━━━━━━\u001b[0m\u001b[37m\u001b[0m \u001b[1m29s\u001b[0m 66ms/step - loss: 0.4398 - val_loss: 0.4389\n"
     ]
    },
    {
     "data": {
      "text/plain": [
       "<keras.src.callbacks.history.History at 0x1f635b7be60>"
      ]
     },
     "execution_count": 64,
     "metadata": {},
     "output_type": "execute_result"
    }
   ],
   "source": [
    "autoencoder.fit(x_train,x_train,epochs=10,batch_size=128,validation_data=(x_test,x_test))"
   ]
  },
  {
   "cell_type": "code",
   "execution_count": 65,
   "id": "e4b4b32e-d47b-48f1-90cf-09f276c4574e",
   "metadata": {},
   "outputs": [
    {
     "name": "stdout",
     "output_type": "stream",
     "text": [
      "\u001b[1m438/438\u001b[0m \u001b[32m━━━━━━━━━━━━━━━━━━━━\u001b[0m\u001b[37m\u001b[0m \u001b[1m4s\u001b[0m 9ms/step\n"
     ]
    }
   ],
   "source": [
    "dnoised_images= autoencoder.predict(x_test)"
   ]
  },
  {
   "cell_type": "code",
   "execution_count": 72,
   "id": "4c74f156-a800-4d88-8ba4-873cc242da8e",
   "metadata": {},
   "outputs": [
    {
     "name": "stdout",
     "output_type": "stream",
     "text": [
      "\u001b[1m1/1\u001b[0m \u001b[32m━━━━━━━━━━━━━━━━━━━━\u001b[0m\u001b[37m\u001b[0m \u001b[1m0s\u001b[0m 28ms/step\n",
      "\u001b[1m1/1\u001b[0m \u001b[32m━━━━━━━━━━━━━━━━━━━━\u001b[0m\u001b[37m\u001b[0m \u001b[1m0s\u001b[0m 46ms/step\n"
     ]
    },
    {
     "data": {
      "image/png": "[encoded data removed]",
      "text/plain": [
       "<Figure size 2000x600 with 30 Axes>"
      ]
     },
     "metadata": {},
     "output_type": "display_data"
    }
   ],
   "source": [
    "fig, axs = plt.subplots(3, 10, figsize=(20, 6))\n",
    "\n",
    "for digit in range(10):\n",
    "    idx = np.where(y_test == digit)[0]\n",
    "    if idx.size > 0:  # If digit exists\n",
    "        idx = idx[0]\n",
    "        imgs = [x_test[idx].reshape(28, 28), y_test[idx].reshape(28, 28), autoencoder.predict(x_test[idx].reshape(1, 28, 28, 1)).reshape(28, 28)]\n",
    "        titles = [\"Noisy\", \"Original\", \"Denoised\"]\n",
    "        \n",
    "        for ax, img, title in zip(axs[:, digit], imgs, titles):\n",
    "            ax.imshow(img, cmap='gray')\n",
    "            ax.set_title(f\"{title} {digit}\", fontsize=8)\n",
    "            ax.axis('off')  # Turn off the axes for each image\n",
    "    else:\n",
    "        # If no image for this digit, turn off all axes in the column\n",
    "        for ax in axs[:, digit]:\n",
    "            ax.axis('off')\n",
    "\n",
    "plt.show()"
   ]
  },
  {
   "cell_type": "code",
   "execution_count": null,
   "id": "fd2d5589-ae10-4715-b72d-a577b552c973",
   "metadata": {},
   "outputs": [],
   "source": []
  }
 ],
 "metadata": {
  "kernelspec": {
   "display_name": "Python 3 (ipykernel)",
   "language": "python",
   "name": "python3"
  },
  "language_info": {
   "codemirror_mode": {
    "name": "ipython",
    "version": 3
   },
   "file_extension": ".py",
   "mimetype": "text/x-python",
   "name": "python",
   "nbconvert_exporter": "python",
   "pygments_lexer": "ipython3",
   "version": "3.12.1"
  }
 },
 "nbformat": 4,
 "nbformat_minor": 5
}
