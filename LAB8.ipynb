{
 "cells": [
  {
   "cell_type": "code",
   "execution_count": 15,
   "id": "43c80d39-753e-4a98-88a9-a26c82edf97a",
   "metadata": {},
   "outputs": [],
   "source": [
    "import numpy as np\n",
    "     "
   ]
  },
  {
   "cell_type": "code",
   "execution_count": 16,
   "id": "a0f9b45c-2434-48b8-baa0-0f9a624d6927",
   "metadata": {},
   "outputs": [],
   "source": [
    "#activation functions\n",
    "def sigmoid(x):\n",
    "    return 1 / (1 + np.exp(-x))\n",
    "\n",
    "def tanh(x):\n",
    "    return np.tanh(x)\n",
    "\n",
    "def softmax(x):\n",
    "    exp_x = np.exp(x - np.max(x, axis=-1, keepdims=True))\n",
    "    return exp_x / np.sum(exp_x, axis=-1, keepdims=True)\n",
    "\n"
   ]
  },
  {
   "cell_type": "code",
   "execution_count": 17,
   "id": "c264c5df-bf21-44e1-bce6-d2c28b0e2e76",
   "metadata": {},
   "outputs": [],
   "source": [
    "#forward pass\n",
    "def rnn_forward(x, h_prev, Wx, Wh, Wy, bh, by):\n",
    "    h_t = tanh(np.dot(x, Wx) + np.dot(h_prev, Wh) + bh)\n",
    "    y_t = softmax(np.dot(h_t, Wy) + by)\n",
    "    return h_t, y_t\n",
    "\n",
    "def rnn_backward(dy, h, x, h_prev, Wx, Wh, Wy, bh, by):\n",
    "    dh = (1 - h**2) * (dy.dot(Wy.T) + h_prev.dot(Wh.T))\n",
    "    dWx = x.T.dot(dh)\n",
    "    dWh = h_prev.T.dot(dh)\n",
    "    dWy = h.T.dot(dy)\n",
    "    dbh = np.sum(dh, axis=0)\n",
    "    dby = np.sum(dy, axis=0)\n",
    "    return dWx, dWh, dWy, dbh, dby, dh\n",
    "     \n"
   ]
  },
  {
   "cell_type": "code",
   "execution_count": 18,
   "id": "a85cef39-c868-41d0-82db-07e1fd156960",
   "metadata": {},
   "outputs": [],
   "source": [
    "def train_rnn(X, Y, epochs=100, learning_rate=0.01):\n",
    "    np.random.seed(42)\n",
    "\n",
    "    input_size = X.shape[1]\n",
    "    hidden_size = 64\n",
    "    output_size = Y.shape[1]\n",
    "\n",
    "    Wx = np.random.randn(input_size, hidden_size)\n",
    "    Wh = np.random.randn(hidden_size, hidden_size)\n",
    "    Wy = np.random.randn(hidden_size, output_size)\n",
    "    bh = np.zeros((1, hidden_size))\n",
    "    by = np.zeros((1, output_size))\n",
    "\n",
    "    for epoch in range(epochs):\n",
    "        h_prev = np.zeros((1, hidden_size))\n",
    "\n",
    "        for t in range(X.shape[0]):\n",
    "            x_t = X[t].reshape(1, -1)\n",
    "            y_t = Y[t].reshape(1, -1)\n",
    "\n",
    "            # Forward pass\n",
    "            h_t, y_pred = rnn_forward(x_t, h_prev, Wx, Wh, Wy, bh, by)\n",
    "\n",
    "            # Compute loss\n",
    "            loss = -np.sum(y_t * np.log(y_pred))\n",
    "\n",
    "            # Backward pass\n",
    "            dy = y_pred - y_t\n",
    "            dWx, dWh, dWy, dbh, dby, dh_prev = rnn_backward(dy, h_t, x_t, h_prev, Wx, Wh, Wy, bh, by)\n",
    "\n",
    "            # Update weights\n",
    "            Wx -= learning_rate * dWx\n",
    "            Wh -= learning_rate * dWh\n",
    "            Wy -= learning_rate * dWy\n",
    "            bh -= learning_rate * dbh\n",
    "            by -= learning_rate * dby\n",
    "\n",
    "            h_prev = h_t\n",
    "\n",
    "        if epoch % 10 == 0:\n",
    "            print(f\"Epoch {epoch}, Loss: {loss}\")\n",
    "\n",
    "    return Wx, Wh, Wy, bh, by"
   ]
  },
  {
   "cell_type": "code",
   "execution_count": 19,
   "id": "dfa279a3-b2d0-4cf0-9e56-067510524cc6",
   "metadata": {},
   "outputs": [
    {
     "name": "stdout",
     "output_type": "stream",
     "text": [
      "Epoch 0, Loss: 0.04106928108633632\n",
      "Epoch 10, Loss: 0.3497951898130656\n",
      "Epoch 20, Loss: 0.3566455610192369\n",
      "Epoch 30, Loss: 0.3354967954169602\n",
      "Epoch 40, Loss: 0.34017407724653415\n",
      "Epoch 50, Loss: 0.33454523575455414\n",
      "Epoch 60, Loss: 0.3320542355884951\n",
      "Epoch 70, Loss: 0.33113806978441673\n",
      "Epoch 80, Loss: 0.29851506212538353\n",
      "Epoch 90, Loss: 0.33932752993519494\n",
      "Epoch 100, Loss: 0.33839025331399475\n",
      "Epoch 110, Loss: 0.33791534558812814\n",
      "Epoch 120, Loss: 0.3373726519376047\n",
      "Epoch 130, Loss: 0.33705809332801634\n",
      "Epoch 140, Loss: 0.33685755769931514\n"
     ]
    }
   ],
   "source": [
    "# Dummy data\n",
    "X = np.random.rand(100, 10)\n",
    "Y = np.random.randint(0, 2, size=(100, 2))\n",
    "\n",
    "# One-hot encode Y\n",
    "Y_one_hot = np.zeros((Y.shape[0], 2))\n",
    "Y_one_hot[np.arange(Y.shape[0]), Y[:, 0]] = 1\n",
    "\n",
    "# Training the RNN\n",
    "Wx, Wh, Wy, bh, by = train_rnn(X, Y_one_hot, 150)\n",
    "     "
   ]
  },
  {
   "cell_type": "code",
   "execution_count": 22,
   "id": "834b4d3d-735e-4295-802d-ec9b556f2561",
   "metadata": {},
   "outputs": [
    {
     "name": "stdout",
     "output_type": "stream",
     "text": [
      "Requirement already satisfied: scikit-learn in c:\\users\\admin\\appdata\\local\\programs\\python\\python312\\lib\\site-packages (1.5.2)\n",
      "Requirement already satisfied: numpy>=1.19.5 in c:\\users\\admin\\appdata\\local\\programs\\python\\python312\\lib\\site-packages (from scikit-learn) (2.0.2)\n",
      "Requirement already satisfied: scipy>=1.6.0 in c:\\users\\admin\\appdata\\local\\programs\\python\\python312\\lib\\site-packages (from scikit-learn) (1.14.1)\n",
      "Requirement already satisfied: joblib>=1.2.0 in c:\\users\\admin\\appdata\\local\\programs\\python\\python312\\lib\\site-packages (from scikit-learn) (1.4.2)\n",
      "Requirement already satisfied: threadpoolctl>=3.1.0 in c:\\users\\admin\\appdata\\local\\programs\\python\\python312\\lib\\site-packages (from scikit-learn) (3.5.0)\n"
     ]
    },
    {
     "name": "stderr",
     "output_type": "stream",
     "text": [
      "\n",
      "[notice] A new release of pip is available: 23.2.1 -> 24.3.1\n",
      "[notice] To update, run: C:\\Users\\admin\\AppData\\Local\\Programs\\Python\\Python312\\python.exe -m pip install --upgrade pip\n"
     ]
    }
   ],
   "source": [
    "!pip install scikit-learn"
   ]
  },
  {
   "cell_type": "code",
   "execution_count": 23,
   "id": "87fae15a-9969-4cd7-a6a4-3248e92d2ade",
   "metadata": {},
   "outputs": [
    {
     "name": "stdout",
     "output_type": "stream",
     "text": [
      "Accuracy: 0.65\n",
      "Confusion Matrix:\n",
      "[[8 5]\n",
      " [2 5]]\n"
     ]
    }
   ],
   "source": [
    "from sklearn.metrics import accuracy_score, confusion_matrix\n",
    "     \n",
    "\n",
    "def predict_rnn(X, Wx, Wh, Wy, bh, by):\n",
    "    h_prev = np.zeros((1, Wh.shape[0]))\n",
    "    predictions = []\n",
    "\n",
    "    for t in range(X.shape[0]):\n",
    "        x_t = X[t].reshape(1, -1)\n",
    "        h_t, y_pred = rnn_forward(x_t, h_prev, Wx, Wh, Wy, bh, by)\n",
    "        predictions.append(np.argmax(y_pred))\n",
    "\n",
    "        h_prev = h_t\n",
    "\n",
    "    return np.array(predictions)\n",
    "     \n",
    "\n",
    "# Dummy test data\n",
    "X_test = np.random.rand(20, 10)\n",
    "Y_test = np.random.randint(0, 2, size=(20, 2))\n",
    "\n",
    "# One-hot encode Y_test\n",
    "Y_test_one_hot = np.zeros((Y_test.shape[0], 2))\n",
    "Y_test_one_hot[np.arange(Y_test.shape[0]), Y_test[:, 0]] = 1\n",
    "\n",
    "# Make predictions\n",
    "predictions = predict_rnn(X_test, Wx, Wh, Wy, bh, by)\n",
    "\n",
    "# Calculate accuracy\n",
    "accuracy = accuracy_score(Y_test[:, 0], predictions)\n",
    "print(f\"Accuracy: {accuracy}\")\n",
    "\n",
    "# Calculate confusion matrix\n",
    "conf_matrix = confusion_matrix(Y_test[:, 0], predictions)\n",
    "print(\"Confusion Matrix:\")\n",
    "print(conf_matrix)"
   ]
  },
  {
   "cell_type": "code",
   "execution_count": null,
   "id": "7ceaa808-37da-4590-bc8c-0b3d80384c49",
   "metadata": {},
   "outputs": [],
   "source": []
  }
 ],
 "metadata": {
  "kernelspec": {
   "display_name": "Python 3 (ipykernel)",
   "language": "python",
   "name": "python3"
  },
  "language_info": {
   "codemirror_mode": {
    "name": "ipython",
    "version": 3
   },
   "file_extension": ".py",
   "mimetype": "text/x-python",
   "name": "python",
   "nbconvert_exporter": "python",
   "pygments_lexer": "ipython3",
   "version": "3.12.1"
  }
 },
 "nbformat": 4,
 "nbformat_minor": 5
}
